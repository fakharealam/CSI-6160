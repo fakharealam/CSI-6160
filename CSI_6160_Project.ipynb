{
 "cells": [
  {
   "cell_type": "markdown",
   "metadata": {},
   "source": [
    "##  <center>  CSI 6160 Term Paper </center> \n",
    "#### <center> Fakhare Alam- fakharealam@oakland.edu</center>\n",
    "#### <center> Tarun Gudela- tgudela@oakland.edu</center>"
   ]
  },
  {
   "cell_type": "markdown",
   "metadata": {},
   "source": [
    "### STEP-1 Import all necessary Library"
   ]
  },
  {
   "cell_type": "code",
   "execution_count": 1,
   "metadata": {},
   "outputs": [
    {
     "name": "stderr",
     "output_type": "stream",
     "text": [
      "UsageError: Line magic function `%` not found.\n"
     ]
    }
   ],
   "source": [
    "import pandas as pd\n",
    "import numpy as np\n",
    "import os\n",
    "from sklearn import decomposition\n",
    "from sklearn.model_selection import train_test_split\n",
    "from sklearn.preprocessing import StandardScaler\n",
    "from sklearn.preprocessing import StandardScaler\n",
    "from sklearn.preprocessing import LabelEncoder\n",
    "from sklearn.ensemble import RandomForestClassifier\n",
    "from sklearn.model_selection import RandomizedSearchCV\n",
    "from sklearn.ensemble import AdaBoostClassifier\n",
    "from sklearn.tree import DecisionTreeClassifier\n",
    "from sklearn.ensemble import GradientBoostingClassifier\n",
    "from sklearn.linear_model import LogisticRegression\n",
    "from sklearn.neighbors import KNeighborsClassifier \n",
    "from sklearn.neural_network import MLPClassifier\n",
    "from sklearn import svm\n",
    "from sklearn.model_selection import train_test_split\n",
    "from sklearn.model_selection import KFold\n",
    "from sklearn.model_selection import cross_val_score, cross_val_predict\n",
    "from sklearn.model_selection import cross_validate\n",
    "from sklearn.metrics import classification_report,confusion_matrix,accuracy_score,make_scorer,precision_score,recall_score,roc_auc_score,f1_score\n",
    "from sklearn.ensemble import VotingClassifier\n",
    "import xgboost as xgb\n",
    "from xgboost.sklearn import XGBClassifier\n",
    "import seaborn as sns\n",
    "import matplotlib.pyplot as plt\n",
    "% matplotlib inline"
   ]
  },
  {
   "cell_type": "markdown",
   "metadata": {},
   "source": [
    "### STEP-2  Load the raw file"
   ]
  },
  {
   "cell_type": "code",
   "execution_count": 2,
   "metadata": {},
   "outputs": [],
   "source": [
    "df_raw=pd.read_csv('finalMerge.csv')"
   ]
  },
  {
   "cell_type": "markdown",
   "metadata": {},
   "source": [
    "#### Separate the columns ,features and class label"
   ]
  },
  {
   "cell_type": "code",
   "execution_count": 3,
   "metadata": {},
   "outputs": [],
   "source": [
    "column_list=df_raw.columns[3:]\n",
    "df_raw=df_raw[column_list]\n",
    "feature_names=df_raw.columns[4:]\n",
    "class_label=df_raw.columns[0]"
   ]
  },
  {
   "cell_type": "code",
   "execution_count": 4,
   "metadata": {},
   "outputs": [
    {
     "data": {
      "text/html": [
       "<div>\n",
       "<style scoped>\n",
       "    .dataframe tbody tr th:only-of-type {\n",
       "        vertical-align: middle;\n",
       "    }\n",
       "\n",
       "    .dataframe tbody tr th {\n",
       "        vertical-align: top;\n",
       "    }\n",
       "\n",
       "    .dataframe thead th {\n",
       "        text-align: right;\n",
       "    }\n",
       "</style>\n",
       "<table border=\"1\" class=\"dataframe\">\n",
       "  <thead>\n",
       "    <tr style=\"text-align: right;\">\n",
       "      <th></th>\n",
       "      <th>type</th>\n",
       "      <th>zcr-0</th>\n",
       "      <th>zcr-1</th>\n",
       "      <th>energy-0</th>\n",
       "      <th>energy-1</th>\n",
       "      <th>energy_entropy-0</th>\n",
       "      <th>energy_entropy-1</th>\n",
       "      <th>spectral_centroid-0</th>\n",
       "      <th>spectral_centroid-1</th>\n",
       "      <th>spectral_spread-0</th>\n",
       "      <th>...</th>\n",
       "      <th>chroma_4-12</th>\n",
       "      <th>chroma_5-12</th>\n",
       "      <th>chroma_6-12</th>\n",
       "      <th>chroma_7-12</th>\n",
       "      <th>chroma_8-12</th>\n",
       "      <th>chroma_9-12</th>\n",
       "      <th>chroma_10-12</th>\n",
       "      <th>chroma_11-12</th>\n",
       "      <th>chroma_12-12</th>\n",
       "      <th>chroma_std-12</th>\n",
       "    </tr>\n",
       "  </thead>\n",
       "  <tbody>\n",
       "    <tr>\n",
       "      <td>0</td>\n",
       "      <td>bonafide</td>\n",
       "      <td>0.014250</td>\n",
       "      <td>0.022521</td>\n",
       "      <td>1.080482e-07</td>\n",
       "      <td>0.038364</td>\n",
       "      <td>3.019508</td>\n",
       "      <td>2.680155</td>\n",
       "      <td>0.103639</td>\n",
       "      <td>0.039601</td>\n",
       "      <td>0.199317</td>\n",
       "      <td>...</td>\n",
       "      <td>NaN</td>\n",
       "      <td>NaN</td>\n",
       "      <td>NaN</td>\n",
       "      <td>NaN</td>\n",
       "      <td>NaN</td>\n",
       "      <td>NaN</td>\n",
       "      <td>NaN</td>\n",
       "      <td>NaN</td>\n",
       "      <td>NaN</td>\n",
       "      <td>NaN</td>\n",
       "    </tr>\n",
       "    <tr>\n",
       "      <td>1</td>\n",
       "      <td>bonafide</td>\n",
       "      <td>0.013479</td>\n",
       "      <td>0.038917</td>\n",
       "      <td>9.289566e-08</td>\n",
       "      <td>0.029430</td>\n",
       "      <td>3.143045</td>\n",
       "      <td>1.781641</td>\n",
       "      <td>0.128821</td>\n",
       "      <td>0.044023</td>\n",
       "      <td>0.219450</td>\n",
       "      <td>...</td>\n",
       "      <td>NaN</td>\n",
       "      <td>NaN</td>\n",
       "      <td>NaN</td>\n",
       "      <td>NaN</td>\n",
       "      <td>NaN</td>\n",
       "      <td>NaN</td>\n",
       "      <td>NaN</td>\n",
       "      <td>NaN</td>\n",
       "      <td>NaN</td>\n",
       "      <td>NaN</td>\n",
       "    </tr>\n",
       "    <tr>\n",
       "      <td>2</td>\n",
       "      <td>bonafide</td>\n",
       "      <td>0.018125</td>\n",
       "      <td>0.048605</td>\n",
       "      <td>2.660120e-07</td>\n",
       "      <td>0.026271</td>\n",
       "      <td>2.451368</td>\n",
       "      <td>1.540816</td>\n",
       "      <td>0.070391</td>\n",
       "      <td>0.051182</td>\n",
       "      <td>0.133377</td>\n",
       "      <td>...</td>\n",
       "      <td>NaN</td>\n",
       "      <td>NaN</td>\n",
       "      <td>NaN</td>\n",
       "      <td>NaN</td>\n",
       "      <td>NaN</td>\n",
       "      <td>NaN</td>\n",
       "      <td>NaN</td>\n",
       "      <td>NaN</td>\n",
       "      <td>NaN</td>\n",
       "      <td>NaN</td>\n",
       "    </tr>\n",
       "    <tr>\n",
       "      <td>3</td>\n",
       "      <td>bonafide</td>\n",
       "      <td>0.014646</td>\n",
       "      <td>0.077897</td>\n",
       "      <td>1.304738e-06</td>\n",
       "      <td>0.012519</td>\n",
       "      <td>1.520691</td>\n",
       "      <td>2.401172</td>\n",
       "      <td>0.071749</td>\n",
       "      <td>0.075738</td>\n",
       "      <td>0.133914</td>\n",
       "      <td>...</td>\n",
       "      <td>NaN</td>\n",
       "      <td>NaN</td>\n",
       "      <td>NaN</td>\n",
       "      <td>NaN</td>\n",
       "      <td>NaN</td>\n",
       "      <td>NaN</td>\n",
       "      <td>NaN</td>\n",
       "      <td>NaN</td>\n",
       "      <td>NaN</td>\n",
       "      <td>NaN</td>\n",
       "    </tr>\n",
       "    <tr>\n",
       "      <td>4</td>\n",
       "      <td>bonafide</td>\n",
       "      <td>0.022959</td>\n",
       "      <td>0.045418</td>\n",
       "      <td>7.527711e-07</td>\n",
       "      <td>0.015287</td>\n",
       "      <td>2.836484</td>\n",
       "      <td>1.874733</td>\n",
       "      <td>0.064861</td>\n",
       "      <td>0.060937</td>\n",
       "      <td>0.118360</td>\n",
       "      <td>...</td>\n",
       "      <td>NaN</td>\n",
       "      <td>NaN</td>\n",
       "      <td>NaN</td>\n",
       "      <td>NaN</td>\n",
       "      <td>NaN</td>\n",
       "      <td>NaN</td>\n",
       "      <td>NaN</td>\n",
       "      <td>NaN</td>\n",
       "      <td>NaN</td>\n",
       "      <td>NaN</td>\n",
       "    </tr>\n",
       "  </tbody>\n",
       "</table>\n",
       "<p>5 rows × 443 columns</p>\n",
       "</div>"
      ],
      "text/plain": [
       "       type     zcr-0     zcr-1      energy-0  energy-1  energy_entropy-0  \\\n",
       "0  bonafide  0.014250  0.022521  1.080482e-07  0.038364          3.019508   \n",
       "1  bonafide  0.013479  0.038917  9.289566e-08  0.029430          3.143045   \n",
       "2  bonafide  0.018125  0.048605  2.660120e-07  0.026271          2.451368   \n",
       "3  bonafide  0.014646  0.077897  1.304738e-06  0.012519          1.520691   \n",
       "4  bonafide  0.022959  0.045418  7.527711e-07  0.015287          2.836484   \n",
       "\n",
       "   energy_entropy-1  spectral_centroid-0  spectral_centroid-1  \\\n",
       "0          2.680155             0.103639             0.039601   \n",
       "1          1.781641             0.128821             0.044023   \n",
       "2          1.540816             0.070391             0.051182   \n",
       "3          2.401172             0.071749             0.075738   \n",
       "4          1.874733             0.064861             0.060937   \n",
       "\n",
       "   spectral_spread-0  ...  chroma_4-12  chroma_5-12  chroma_6-12  chroma_7-12  \\\n",
       "0           0.199317  ...          NaN          NaN          NaN          NaN   \n",
       "1           0.219450  ...          NaN          NaN          NaN          NaN   \n",
       "2           0.133377  ...          NaN          NaN          NaN          NaN   \n",
       "3           0.133914  ...          NaN          NaN          NaN          NaN   \n",
       "4           0.118360  ...          NaN          NaN          NaN          NaN   \n",
       "\n",
       "   chroma_8-12  chroma_9-12  chroma_10-12  chroma_11-12  chroma_12-12  \\\n",
       "0          NaN          NaN           NaN           NaN           NaN   \n",
       "1          NaN          NaN           NaN           NaN           NaN   \n",
       "2          NaN          NaN           NaN           NaN           NaN   \n",
       "3          NaN          NaN           NaN           NaN           NaN   \n",
       "4          NaN          NaN           NaN           NaN           NaN   \n",
       "\n",
       "   chroma_std-12  \n",
       "0            NaN  \n",
       "1            NaN  \n",
       "2            NaN  \n",
       "3            NaN  \n",
       "4            NaN  \n",
       "\n",
       "[5 rows x 443 columns]"
      ]
     },
     "execution_count": 4,
     "metadata": {},
     "output_type": "execute_result"
    }
   ],
   "source": [
    "df_raw.head()"
   ]
  },
  {
   "cell_type": "markdown",
   "metadata": {},
   "source": [
    "#### Parse the class label to get correct label"
   ]
  },
  {
   "cell_type": "code",
   "execution_count": 5,
   "metadata": {},
   "outputs": [],
   "source": [
    "# Some lables contains _ with file name\n",
    "df_raw[class_label]=df_raw[class_label].apply(lambda x:x.split('_')[1] if x.find('_') != -1 else x)"
   ]
  },
  {
   "cell_type": "markdown",
   "metadata": {},
   "source": [
    "### SETP-3 Visulization and Exploratory Data Analysis (EDA)"
   ]
  },
  {
   "cell_type": "markdown",
   "metadata": {},
   "source": [
    "#### Sample Dataset"
   ]
  },
  {
   "cell_type": "code",
   "execution_count": 6,
   "metadata": {},
   "outputs": [
    {
     "data": {
      "text/html": [
       "<div>\n",
       "<style scoped>\n",
       "    .dataframe tbody tr th:only-of-type {\n",
       "        vertical-align: middle;\n",
       "    }\n",
       "\n",
       "    .dataframe tbody tr th {\n",
       "        vertical-align: top;\n",
       "    }\n",
       "\n",
       "    .dataframe thead th {\n",
       "        text-align: right;\n",
       "    }\n",
       "</style>\n",
       "<table border=\"1\" class=\"dataframe\">\n",
       "  <thead>\n",
       "    <tr style=\"text-align: right;\">\n",
       "      <th></th>\n",
       "      <th>type</th>\n",
       "      <th>zcr-0</th>\n",
       "      <th>zcr-1</th>\n",
       "      <th>energy-0</th>\n",
       "      <th>energy-1</th>\n",
       "      <th>energy_entropy-0</th>\n",
       "      <th>energy_entropy-1</th>\n",
       "      <th>spectral_centroid-0</th>\n",
       "      <th>spectral_centroid-1</th>\n",
       "      <th>spectral_spread-0</th>\n",
       "      <th>...</th>\n",
       "      <th>chroma_4-12</th>\n",
       "      <th>chroma_5-12</th>\n",
       "      <th>chroma_6-12</th>\n",
       "      <th>chroma_7-12</th>\n",
       "      <th>chroma_8-12</th>\n",
       "      <th>chroma_9-12</th>\n",
       "      <th>chroma_10-12</th>\n",
       "      <th>chroma_11-12</th>\n",
       "      <th>chroma_12-12</th>\n",
       "      <th>chroma_std-12</th>\n",
       "    </tr>\n",
       "  </thead>\n",
       "  <tbody>\n",
       "    <tr>\n",
       "      <td>0</td>\n",
       "      <td>bonafide</td>\n",
       "      <td>0.014250</td>\n",
       "      <td>0.022521</td>\n",
       "      <td>1.080482e-07</td>\n",
       "      <td>0.038364</td>\n",
       "      <td>3.019508</td>\n",
       "      <td>2.680155</td>\n",
       "      <td>0.103639</td>\n",
       "      <td>0.039601</td>\n",
       "      <td>0.199317</td>\n",
       "      <td>...</td>\n",
       "      <td>NaN</td>\n",
       "      <td>NaN</td>\n",
       "      <td>NaN</td>\n",
       "      <td>NaN</td>\n",
       "      <td>NaN</td>\n",
       "      <td>NaN</td>\n",
       "      <td>NaN</td>\n",
       "      <td>NaN</td>\n",
       "      <td>NaN</td>\n",
       "      <td>NaN</td>\n",
       "    </tr>\n",
       "    <tr>\n",
       "      <td>1</td>\n",
       "      <td>bonafide</td>\n",
       "      <td>0.013479</td>\n",
       "      <td>0.038917</td>\n",
       "      <td>9.289566e-08</td>\n",
       "      <td>0.029430</td>\n",
       "      <td>3.143045</td>\n",
       "      <td>1.781641</td>\n",
       "      <td>0.128821</td>\n",
       "      <td>0.044023</td>\n",
       "      <td>0.219450</td>\n",
       "      <td>...</td>\n",
       "      <td>NaN</td>\n",
       "      <td>NaN</td>\n",
       "      <td>NaN</td>\n",
       "      <td>NaN</td>\n",
       "      <td>NaN</td>\n",
       "      <td>NaN</td>\n",
       "      <td>NaN</td>\n",
       "      <td>NaN</td>\n",
       "      <td>NaN</td>\n",
       "      <td>NaN</td>\n",
       "    </tr>\n",
       "    <tr>\n",
       "      <td>2</td>\n",
       "      <td>bonafide</td>\n",
       "      <td>0.018125</td>\n",
       "      <td>0.048605</td>\n",
       "      <td>2.660120e-07</td>\n",
       "      <td>0.026271</td>\n",
       "      <td>2.451368</td>\n",
       "      <td>1.540816</td>\n",
       "      <td>0.070391</td>\n",
       "      <td>0.051182</td>\n",
       "      <td>0.133377</td>\n",
       "      <td>...</td>\n",
       "      <td>NaN</td>\n",
       "      <td>NaN</td>\n",
       "      <td>NaN</td>\n",
       "      <td>NaN</td>\n",
       "      <td>NaN</td>\n",
       "      <td>NaN</td>\n",
       "      <td>NaN</td>\n",
       "      <td>NaN</td>\n",
       "      <td>NaN</td>\n",
       "      <td>NaN</td>\n",
       "    </tr>\n",
       "    <tr>\n",
       "      <td>3</td>\n",
       "      <td>bonafide</td>\n",
       "      <td>0.014646</td>\n",
       "      <td>0.077897</td>\n",
       "      <td>1.304738e-06</td>\n",
       "      <td>0.012519</td>\n",
       "      <td>1.520691</td>\n",
       "      <td>2.401172</td>\n",
       "      <td>0.071749</td>\n",
       "      <td>0.075738</td>\n",
       "      <td>0.133914</td>\n",
       "      <td>...</td>\n",
       "      <td>NaN</td>\n",
       "      <td>NaN</td>\n",
       "      <td>NaN</td>\n",
       "      <td>NaN</td>\n",
       "      <td>NaN</td>\n",
       "      <td>NaN</td>\n",
       "      <td>NaN</td>\n",
       "      <td>NaN</td>\n",
       "      <td>NaN</td>\n",
       "      <td>NaN</td>\n",
       "    </tr>\n",
       "    <tr>\n",
       "      <td>4</td>\n",
       "      <td>bonafide</td>\n",
       "      <td>0.022959</td>\n",
       "      <td>0.045418</td>\n",
       "      <td>7.527711e-07</td>\n",
       "      <td>0.015287</td>\n",
       "      <td>2.836484</td>\n",
       "      <td>1.874733</td>\n",
       "      <td>0.064861</td>\n",
       "      <td>0.060937</td>\n",
       "      <td>0.118360</td>\n",
       "      <td>...</td>\n",
       "      <td>NaN</td>\n",
       "      <td>NaN</td>\n",
       "      <td>NaN</td>\n",
       "      <td>NaN</td>\n",
       "      <td>NaN</td>\n",
       "      <td>NaN</td>\n",
       "      <td>NaN</td>\n",
       "      <td>NaN</td>\n",
       "      <td>NaN</td>\n",
       "      <td>NaN</td>\n",
       "    </tr>\n",
       "    <tr>\n",
       "      <td>5</td>\n",
       "      <td>bonafide</td>\n",
       "      <td>0.014292</td>\n",
       "      <td>0.024834</td>\n",
       "      <td>2.165845e-07</td>\n",
       "      <td>0.005297</td>\n",
       "      <td>2.282168</td>\n",
       "      <td>1.508697</td>\n",
       "      <td>0.070807</td>\n",
       "      <td>0.047016</td>\n",
       "      <td>0.153500</td>\n",
       "      <td>...</td>\n",
       "      <td>NaN</td>\n",
       "      <td>NaN</td>\n",
       "      <td>NaN</td>\n",
       "      <td>NaN</td>\n",
       "      <td>NaN</td>\n",
       "      <td>NaN</td>\n",
       "      <td>NaN</td>\n",
       "      <td>NaN</td>\n",
       "      <td>NaN</td>\n",
       "      <td>NaN</td>\n",
       "    </tr>\n",
       "    <tr>\n",
       "      <td>6</td>\n",
       "      <td>bonafide</td>\n",
       "      <td>0.014771</td>\n",
       "      <td>0.020230</td>\n",
       "      <td>2.364334e-07</td>\n",
       "      <td>0.010645</td>\n",
       "      <td>2.584020</td>\n",
       "      <td>2.365309</td>\n",
       "      <td>0.073804</td>\n",
       "      <td>0.034671</td>\n",
       "      <td>0.151185</td>\n",
       "      <td>...</td>\n",
       "      <td>NaN</td>\n",
       "      <td>NaN</td>\n",
       "      <td>NaN</td>\n",
       "      <td>NaN</td>\n",
       "      <td>NaN</td>\n",
       "      <td>NaN</td>\n",
       "      <td>NaN</td>\n",
       "      <td>NaN</td>\n",
       "      <td>NaN</td>\n",
       "      <td>NaN</td>\n",
       "    </tr>\n",
       "    <tr>\n",
       "      <td>7</td>\n",
       "      <td>bonafide</td>\n",
       "      <td>0.013229</td>\n",
       "      <td>0.035688</td>\n",
       "      <td>1.226951e-07</td>\n",
       "      <td>0.016139</td>\n",
       "      <td>3.112370</td>\n",
       "      <td>1.678166</td>\n",
       "      <td>0.121470</td>\n",
       "      <td>0.049242</td>\n",
       "      <td>0.218387</td>\n",
       "      <td>...</td>\n",
       "      <td>NaN</td>\n",
       "      <td>NaN</td>\n",
       "      <td>NaN</td>\n",
       "      <td>NaN</td>\n",
       "      <td>NaN</td>\n",
       "      <td>NaN</td>\n",
       "      <td>NaN</td>\n",
       "      <td>NaN</td>\n",
       "      <td>NaN</td>\n",
       "      <td>NaN</td>\n",
       "    </tr>\n",
       "    <tr>\n",
       "      <td>8</td>\n",
       "      <td>bonafide</td>\n",
       "      <td>0.011959</td>\n",
       "      <td>0.029626</td>\n",
       "      <td>1.252329e-07</td>\n",
       "      <td>0.058600</td>\n",
       "      <td>3.026382</td>\n",
       "      <td>2.294965</td>\n",
       "      <td>0.088493</td>\n",
       "      <td>0.045491</td>\n",
       "      <td>0.180672</td>\n",
       "      <td>...</td>\n",
       "      <td>NaN</td>\n",
       "      <td>NaN</td>\n",
       "      <td>NaN</td>\n",
       "      <td>NaN</td>\n",
       "      <td>NaN</td>\n",
       "      <td>NaN</td>\n",
       "      <td>NaN</td>\n",
       "      <td>NaN</td>\n",
       "      <td>NaN</td>\n",
       "      <td>NaN</td>\n",
       "    </tr>\n",
       "    <tr>\n",
       "      <td>9</td>\n",
       "      <td>bonafide</td>\n",
       "      <td>0.016042</td>\n",
       "      <td>0.023042</td>\n",
       "      <td>4.332866e-07</td>\n",
       "      <td>0.021943</td>\n",
       "      <td>2.275002</td>\n",
       "      <td>2.719562</td>\n",
       "      <td>0.067027</td>\n",
       "      <td>0.044708</td>\n",
       "      <td>0.128047</td>\n",
       "      <td>...</td>\n",
       "      <td>NaN</td>\n",
       "      <td>NaN</td>\n",
       "      <td>NaN</td>\n",
       "      <td>NaN</td>\n",
       "      <td>NaN</td>\n",
       "      <td>NaN</td>\n",
       "      <td>NaN</td>\n",
       "      <td>NaN</td>\n",
       "      <td>NaN</td>\n",
       "      <td>NaN</td>\n",
       "    </tr>\n",
       "  </tbody>\n",
       "</table>\n",
       "<p>10 rows × 443 columns</p>\n",
       "</div>"
      ],
      "text/plain": [
       "       type     zcr-0     zcr-1      energy-0  energy-1  energy_entropy-0  \\\n",
       "0  bonafide  0.014250  0.022521  1.080482e-07  0.038364          3.019508   \n",
       "1  bonafide  0.013479  0.038917  9.289566e-08  0.029430          3.143045   \n",
       "2  bonafide  0.018125  0.048605  2.660120e-07  0.026271          2.451368   \n",
       "3  bonafide  0.014646  0.077897  1.304738e-06  0.012519          1.520691   \n",
       "4  bonafide  0.022959  0.045418  7.527711e-07  0.015287          2.836484   \n",
       "5  bonafide  0.014292  0.024834  2.165845e-07  0.005297          2.282168   \n",
       "6  bonafide  0.014771  0.020230  2.364334e-07  0.010645          2.584020   \n",
       "7  bonafide  0.013229  0.035688  1.226951e-07  0.016139          3.112370   \n",
       "8  bonafide  0.011959  0.029626  1.252329e-07  0.058600          3.026382   \n",
       "9  bonafide  0.016042  0.023042  4.332866e-07  0.021943          2.275002   \n",
       "\n",
       "   energy_entropy-1  spectral_centroid-0  spectral_centroid-1  \\\n",
       "0          2.680155             0.103639             0.039601   \n",
       "1          1.781641             0.128821             0.044023   \n",
       "2          1.540816             0.070391             0.051182   \n",
       "3          2.401172             0.071749             0.075738   \n",
       "4          1.874733             0.064861             0.060937   \n",
       "5          1.508697             0.070807             0.047016   \n",
       "6          2.365309             0.073804             0.034671   \n",
       "7          1.678166             0.121470             0.049242   \n",
       "8          2.294965             0.088493             0.045491   \n",
       "9          2.719562             0.067027             0.044708   \n",
       "\n",
       "   spectral_spread-0  ...  chroma_4-12  chroma_5-12  chroma_6-12  chroma_7-12  \\\n",
       "0           0.199317  ...          NaN          NaN          NaN          NaN   \n",
       "1           0.219450  ...          NaN          NaN          NaN          NaN   \n",
       "2           0.133377  ...          NaN          NaN          NaN          NaN   \n",
       "3           0.133914  ...          NaN          NaN          NaN          NaN   \n",
       "4           0.118360  ...          NaN          NaN          NaN          NaN   \n",
       "5           0.153500  ...          NaN          NaN          NaN          NaN   \n",
       "6           0.151185  ...          NaN          NaN          NaN          NaN   \n",
       "7           0.218387  ...          NaN          NaN          NaN          NaN   \n",
       "8           0.180672  ...          NaN          NaN          NaN          NaN   \n",
       "9           0.128047  ...          NaN          NaN          NaN          NaN   \n",
       "\n",
       "   chroma_8-12  chroma_9-12  chroma_10-12  chroma_11-12  chroma_12-12  \\\n",
       "0          NaN          NaN           NaN           NaN           NaN   \n",
       "1          NaN          NaN           NaN           NaN           NaN   \n",
       "2          NaN          NaN           NaN           NaN           NaN   \n",
       "3          NaN          NaN           NaN           NaN           NaN   \n",
       "4          NaN          NaN           NaN           NaN           NaN   \n",
       "5          NaN          NaN           NaN           NaN           NaN   \n",
       "6          NaN          NaN           NaN           NaN           NaN   \n",
       "7          NaN          NaN           NaN           NaN           NaN   \n",
       "8          NaN          NaN           NaN           NaN           NaN   \n",
       "9          NaN          NaN           NaN           NaN           NaN   \n",
       "\n",
       "   chroma_std-12  \n",
       "0            NaN  \n",
       "1            NaN  \n",
       "2            NaN  \n",
       "3            NaN  \n",
       "4            NaN  \n",
       "5            NaN  \n",
       "6            NaN  \n",
       "7            NaN  \n",
       "8            NaN  \n",
       "9            NaN  \n",
       "\n",
       "[10 rows x 443 columns]"
      ]
     },
     "execution_count": 6,
     "metadata": {},
     "output_type": "execute_result"
    }
   ],
   "source": [
    "df_raw.head(10)"
   ]
  },
  {
   "cell_type": "markdown",
   "metadata": {},
   "source": [
    "#### <u>A. Verify Dataset imbalance</u>"
   ]
  },
  {
   "cell_type": "code",
   "execution_count": 7,
   "metadata": {},
   "outputs": [
    {
     "data": {
      "text/plain": [
       "<matplotlib.axes._subplots.AxesSubplot at 0x28aa16d3148>"
      ]
     },
     "execution_count": 7,
     "metadata": {},
     "output_type": "execute_result"
    },
    {
     "data": {
      "image/png": "[encoded data removed]",
      "text/plain": [
       "<Figure size 432x288 with 1 Axes>"
      ]
     },
     "metadata": {
      "needs_background": "light"
     },
     "output_type": "display_data"
    }
   ],
   "source": [
    "sns.countplot(df_raw[class_label])"
   ]
  },
  {
   "cell_type": "code",
   "execution_count": 39,
   "metadata": {},
   "outputs": [
    {
     "data": {
      "text/plain": [
       "spoof       22800\n",
       "bonafide     2580\n",
       "Name: type, dtype: int64"
      ]
     },
     "execution_count": 39,
     "metadata": {},
     "output_type": "execute_result"
    }
   ],
   "source": [
    "df_raw[class_label].value_counts()"
   ]
  },
  {
   "cell_type": "markdown",
   "metadata": {},
   "source": [
    "##### Dataset is highly imbalance , there is a need to balance the dataset w.r.t to class label so that machine learning model is not bisased."
   ]
  },
  {
   "cell_type": "markdown",
   "metadata": {},
   "source": [
    "#### <u>B. Check feature name and dimension of dataset</u>"
   ]
  },
  {
   "cell_type": "code",
   "execution_count": 8,
   "metadata": {},
   "outputs": [
    {
     "name": "stdout",
     "output_type": "stream",
     "text": [
      "Features names -\n",
      " Index(['energy-1', 'energy_entropy-0', 'energy_entropy-1',\n",
      "       'spectral_centroid-0', 'spectral_centroid-1', 'spectral_spread-0',\n",
      "       'spectral_spread-1', 'spectral_entropy-0', 'spectral_entropy-1',\n",
      "       'spectral_flux-0',\n",
      "       ...\n",
      "       'chroma_4-12', 'chroma_5-12', 'chroma_6-12', 'chroma_7-12',\n",
      "       'chroma_8-12', 'chroma_9-12', 'chroma_10-12', 'chroma_11-12',\n",
      "       'chroma_12-12', 'chroma_std-12'],\n",
      "      dtype='object', length=439)\n",
      "\n",
      "\n",
      "Dimension of the Dataset\n",
      " (25380, 443)\n"
     ]
    }
   ],
   "source": [
    "print('Features names -\\n',feature_names)\n",
    "print('\\n')\n",
    "print('Dimension of the Dataset\\n',df_raw.shape)\n"
   ]
  },
  {
   "cell_type": "markdown",
   "metadata": {},
   "source": [
    "#### <u>C. Step-2 Check feature type information</u>"
   ]
  },
  {
   "cell_type": "code",
   "execution_count": 9,
   "metadata": {},
   "outputs": [
    {
     "name": "stdout",
     "output_type": "stream",
     "text": [
      "<class 'pandas.core.frame.DataFrame'>\n",
      "RangeIndex: 25380 entries, 0 to 25379\n",
      "Columns: 443 entries, type to chroma_std-12\n",
      "dtypes: float64(442), object(1)\n",
      "memory usage: 85.8+ MB\n"
     ]
    }
   ],
   "source": [
    "df_raw.info()"
   ]
  },
  {
   "cell_type": "markdown",
   "metadata": {},
   "source": [
    "#### <u> D. Check NULL values</u> \n"
   ]
  },
  {
   "cell_type": "code",
   "execution_count": 10,
   "metadata": {},
   "outputs": [
    {
     "data": {
      "text/plain": [
       "<matplotlib.axes._subplots.AxesSubplot at 0x28aa3d94f08>"
      ]
     },
     "execution_count": 10,
     "metadata": {},
     "output_type": "execute_result"
    },
    {
     "data": {
      "image/png": "[encoded data removed]",
      "text/plain": [
       "<Figure size 432x288 with 1 Axes>"
      ]
     },
     "metadata": {
      "needs_background": "light"
     },
     "output_type": "display_data"
    }
   ],
   "source": [
    "sns.heatmap(df_raw.isnull(),yticklabels=False,cbar=False,cmap='viridis')"
   ]
  },
  {
   "cell_type": "markdown",
   "metadata": {},
   "source": [
    "#### <u> E. Drop column which have null values more than 60% <\\u>"
   ]
  },
  {
   "cell_type": "code",
   "execution_count": 11,
   "metadata": {},
   "outputs": [],
   "source": [
    "df_raw.dropna(thresh=df_raw.shape[0]*0.6,how='all',axis=1,inplace=True)"
   ]
  },
  {
   "cell_type": "code",
   "execution_count": 12,
   "metadata": {},
   "outputs": [
    {
     "data": {
      "text/plain": [
       "<matplotlib.axes._subplots.AxesSubplot at 0x28aa1ce41c8>"
      ]
     },
     "execution_count": 12,
     "metadata": {},
     "output_type": "execute_result"
    },
    {
     "data": {
      "image/png": "[encoded data removed]",
      "text/plain": [
       "<Figure size 432x288 with 1 Axes>"
      ]
     },
     "metadata": {
      "needs_background": "light"
     },
     "output_type": "display_data"
    }
   ],
   "source": [
    "sns.heatmap(df_raw.isnull(),yticklabels=False,cbar=False,cmap='viridis')"
   ]
  },
  {
   "cell_type": "markdown",
   "metadata": {},
   "source": [
    "#### Balance the Data"
   ]
  },
  {
   "cell_type": "code",
   "execution_count": 13,
   "metadata": {},
   "outputs": [],
   "source": [
    "no_bonafide= len(df_raw[df_raw['type'] == 'bonafide'])\n",
    "spoof_indices = df_raw[df_raw['type'] == 'spoof'].index\n",
    "random_indices = np.random.choice(spoof_indices,no_bonafide,replace=False)\n",
    "bonafide_indices = df_raw[df_raw['type'] == 'bonafide'].index\n",
    "under_sample_indices = np.concatenate([bonafide_indices,random_indices])\n",
    "df_raw_balanced = df_raw.loc[under_sample_indices]"
   ]
  },
  {
   "cell_type": "code",
   "execution_count": 14,
   "metadata": {},
   "outputs": [
    {
     "data": {
      "text/plain": [
       "<matplotlib.axes._subplots.AxesSubplot at 0x28aa1cde6c8>"
      ]
     },
     "execution_count": 14,
     "metadata": {},
     "output_type": "execute_result"
    },
    {
     "data": {
      "image/png": "[encoded data removed]",
      "text/plain": [
       "<Figure size 432x288 with 1 Axes>"
      ]
     },
     "metadata": {
      "needs_background": "light"
     },
     "output_type": "display_data"
    }
   ],
   "source": [
    "sns.countplot(df_raw_balanced[class_label])"
   ]
  },
  {
   "cell_type": "markdown",
   "metadata": {},
   "source": [
    "#### <u> F. Check Basic Statistics</u>"
   ]
  },
  {
   "cell_type": "code",
   "execution_count": 15,
   "metadata": {},
   "outputs": [
    {
     "data": {
      "text/html": [
       "<div>\n",
       "<style scoped>\n",
       "    .dataframe tbody tr th:only-of-type {\n",
       "        vertical-align: middle;\n",
       "    }\n",
       "\n",
       "    .dataframe tbody tr th {\n",
       "        vertical-align: top;\n",
       "    }\n",
       "\n",
       "    .dataframe thead th {\n",
       "        text-align: right;\n",
       "    }\n",
       "</style>\n",
       "<table border=\"1\" class=\"dataframe\">\n",
       "  <thead>\n",
       "    <tr style=\"text-align: right;\">\n",
       "      <th></th>\n",
       "      <th>zcr-0</th>\n",
       "      <th>zcr-1</th>\n",
       "      <th>energy-0</th>\n",
       "      <th>energy-1</th>\n",
       "      <th>energy_entropy-0</th>\n",
       "      <th>energy_entropy-1</th>\n",
       "      <th>spectral_centroid-0</th>\n",
       "      <th>spectral_centroid-1</th>\n",
       "      <th>spectral_spread-0</th>\n",
       "      <th>spectral_spread-1</th>\n",
       "      <th>...</th>\n",
       "      <th>chroma_4-2</th>\n",
       "      <th>chroma_5-2</th>\n",
       "      <th>chroma_6-2</th>\n",
       "      <th>chroma_7-2</th>\n",
       "      <th>chroma_8-2</th>\n",
       "      <th>chroma_9-2</th>\n",
       "      <th>chroma_10-2</th>\n",
       "      <th>chroma_11-2</th>\n",
       "      <th>chroma_12-2</th>\n",
       "      <th>chroma_std-2</th>\n",
       "    </tr>\n",
       "  </thead>\n",
       "  <tbody>\n",
       "    <tr>\n",
       "      <td>count</td>\n",
       "      <td>5160.000000</td>\n",
       "      <td>5051.000000</td>\n",
       "      <td>5.160000e+03</td>\n",
       "      <td>5.051000e+03</td>\n",
       "      <td>5160.000000</td>\n",
       "      <td>5051.000000</td>\n",
       "      <td>5160.000000</td>\n",
       "      <td>5051.000000</td>\n",
       "      <td>5160.000000</td>\n",
       "      <td>5051.000000</td>\n",
       "      <td>...</td>\n",
       "      <td>3991.000000</td>\n",
       "      <td>3991.000000</td>\n",
       "      <td>3991.000000</td>\n",
       "      <td>3991.000000</td>\n",
       "      <td>3991.000000</td>\n",
       "      <td>3991.000000</td>\n",
       "      <td>3991.000000</td>\n",
       "      <td>3991.000000</td>\n",
       "      <td>3991.000000</td>\n",
       "      <td>3991.000000</td>\n",
       "    </tr>\n",
       "    <tr>\n",
       "      <td>mean</td>\n",
       "      <td>0.014254</td>\n",
       "      <td>0.023775</td>\n",
       "      <td>5.144166e-03</td>\n",
       "      <td>2.537421e-02</td>\n",
       "      <td>2.646714</td>\n",
       "      <td>2.392888</td>\n",
       "      <td>0.061526</td>\n",
       "      <td>0.046798</td>\n",
       "      <td>0.122287</td>\n",
       "      <td>0.082210</td>\n",
       "      <td>...</td>\n",
       "      <td>0.004646</td>\n",
       "      <td>0.004069</td>\n",
       "      <td>0.003861</td>\n",
       "      <td>0.005291</td>\n",
       "      <td>0.009304</td>\n",
       "      <td>0.013684</td>\n",
       "      <td>0.013854</td>\n",
       "      <td>0.014809</td>\n",
       "      <td>0.012828</td>\n",
       "      <td>0.014545</td>\n",
       "    </tr>\n",
       "    <tr>\n",
       "      <td>std</td>\n",
       "      <td>0.008352</td>\n",
       "      <td>0.011923</td>\n",
       "      <td>1.226396e-02</td>\n",
       "      <td>1.932035e-02</td>\n",
       "      <td>0.782803</td>\n",
       "      <td>0.608552</td>\n",
       "      <td>0.020708</td>\n",
       "      <td>0.016132</td>\n",
       "      <td>0.043293</td>\n",
       "      <td>0.032623</td>\n",
       "      <td>...</td>\n",
       "      <td>0.009907</td>\n",
       "      <td>0.008801</td>\n",
       "      <td>0.009187</td>\n",
       "      <td>0.012463</td>\n",
       "      <td>0.025531</td>\n",
       "      <td>0.027434</td>\n",
       "      <td>0.023884</td>\n",
       "      <td>0.029284</td>\n",
       "      <td>0.023235</td>\n",
       "      <td>0.012183</td>\n",
       "    </tr>\n",
       "    <tr>\n",
       "      <td>min</td>\n",
       "      <td>0.003292</td>\n",
       "      <td>0.002583</td>\n",
       "      <td>4.296853e-08</td>\n",
       "      <td>4.432488e-08</td>\n",
       "      <td>0.002191</td>\n",
       "      <td>0.003926</td>\n",
       "      <td>0.012715</td>\n",
       "      <td>0.012503</td>\n",
       "      <td>0.034090</td>\n",
       "      <td>0.033609</td>\n",
       "      <td>...</td>\n",
       "      <td>0.000015</td>\n",
       "      <td>0.000009</td>\n",
       "      <td>0.000010</td>\n",
       "      <td>0.000006</td>\n",
       "      <td>0.000007</td>\n",
       "      <td>0.000018</td>\n",
       "      <td>0.000030</td>\n",
       "      <td>0.000027</td>\n",
       "      <td>0.000026</td>\n",
       "      <td>0.000088</td>\n",
       "    </tr>\n",
       "    <tr>\n",
       "      <td>25%</td>\n",
       "      <td>0.009000</td>\n",
       "      <td>0.014396</td>\n",
       "      <td>1.007592e-06</td>\n",
       "      <td>1.115845e-02</td>\n",
       "      <td>2.331378</td>\n",
       "      <td>2.124641</td>\n",
       "      <td>0.047663</td>\n",
       "      <td>0.035218</td>\n",
       "      <td>0.089927</td>\n",
       "      <td>0.057043</td>\n",
       "      <td>...</td>\n",
       "      <td>0.000599</td>\n",
       "      <td>0.000510</td>\n",
       "      <td>0.000525</td>\n",
       "      <td>0.000624</td>\n",
       "      <td>0.000766</td>\n",
       "      <td>0.001218</td>\n",
       "      <td>0.001491</td>\n",
       "      <td>0.001632</td>\n",
       "      <td>0.001519</td>\n",
       "      <td>0.006624</td>\n",
       "    </tr>\n",
       "    <tr>\n",
       "      <td>50%</td>\n",
       "      <td>0.012146</td>\n",
       "      <td>0.021500</td>\n",
       "      <td>3.041573e-06</td>\n",
       "      <td>2.269008e-02</td>\n",
       "      <td>3.049134</td>\n",
       "      <td>2.521240</td>\n",
       "      <td>0.060501</td>\n",
       "      <td>0.044236</td>\n",
       "      <td>0.125508</td>\n",
       "      <td>0.075636</td>\n",
       "      <td>...</td>\n",
       "      <td>0.001502</td>\n",
       "      <td>0.001349</td>\n",
       "      <td>0.001286</td>\n",
       "      <td>0.001580</td>\n",
       "      <td>0.002217</td>\n",
       "      <td>0.003666</td>\n",
       "      <td>0.004678</td>\n",
       "      <td>0.004854</td>\n",
       "      <td>0.004225</td>\n",
       "      <td>0.011110</td>\n",
       "    </tr>\n",
       "    <tr>\n",
       "      <td>75%</td>\n",
       "      <td>0.016381</td>\n",
       "      <td>0.031396</td>\n",
       "      <td>2.004400e-04</td>\n",
       "      <td>3.585701e-02</td>\n",
       "      <td>3.193754</td>\n",
       "      <td>2.813339</td>\n",
       "      <td>0.073032</td>\n",
       "      <td>0.055351</td>\n",
       "      <td>0.153103</td>\n",
       "      <td>0.100314</td>\n",
       "      <td>...</td>\n",
       "      <td>0.004136</td>\n",
       "      <td>0.003603</td>\n",
       "      <td>0.003324</td>\n",
       "      <td>0.004325</td>\n",
       "      <td>0.006652</td>\n",
       "      <td>0.012315</td>\n",
       "      <td>0.015177</td>\n",
       "      <td>0.014347</td>\n",
       "      <td>0.012971</td>\n",
       "      <td>0.018469</td>\n",
       "    </tr>\n",
       "    <tr>\n",
       "      <td>max</td>\n",
       "      <td>0.092648</td>\n",
       "      <td>0.077897</td>\n",
       "      <td>9.759232e-02</td>\n",
       "      <td>1.312768e-01</td>\n",
       "      <td>3.317134</td>\n",
       "      <td>3.310154</td>\n",
       "      <td>0.340087</td>\n",
       "      <td>0.230984</td>\n",
       "      <td>0.301256</td>\n",
       "      <td>0.298466</td>\n",
       "      <td>...</td>\n",
       "      <td>0.186853</td>\n",
       "      <td>0.159662</td>\n",
       "      <td>0.123041</td>\n",
       "      <td>0.184157</td>\n",
       "      <td>0.546402</td>\n",
       "      <td>0.363533</td>\n",
       "      <td>0.222601</td>\n",
       "      <td>0.412208</td>\n",
       "      <td>0.303294</td>\n",
       "      <td>0.148767</td>\n",
       "    </tr>\n",
       "  </tbody>\n",
       "</table>\n",
       "<p>8 rows × 102 columns</p>\n",
       "</div>"
      ],
      "text/plain": [
       "             zcr-0        zcr-1      energy-0      energy-1  energy_entropy-0  \\\n",
       "count  5160.000000  5051.000000  5.160000e+03  5.051000e+03       5160.000000   \n",
       "mean      0.014254     0.023775  5.144166e-03  2.537421e-02          2.646714   \n",
       "std       0.008352     0.011923  1.226396e-02  1.932035e-02          0.782803   \n",
       "min       0.003292     0.002583  4.296853e-08  4.432488e-08          0.002191   \n",
       "25%       0.009000     0.014396  1.007592e-06  1.115845e-02          2.331378   \n",
       "50%       0.012146     0.021500  3.041573e-06  2.269008e-02          3.049134   \n",
       "75%       0.016381     0.031396  2.004400e-04  3.585701e-02          3.193754   \n",
       "max       0.092648     0.077897  9.759232e-02  1.312768e-01          3.317134   \n",
       "\n",
       "       energy_entropy-1  spectral_centroid-0  spectral_centroid-1  \\\n",
       "count       5051.000000          5160.000000          5051.000000   \n",
       "mean           2.392888             0.061526             0.046798   \n",
       "std            0.608552             0.020708             0.016132   \n",
       "min            0.003926             0.012715             0.012503   \n",
       "25%            2.124641             0.047663             0.035218   \n",
       "50%            2.521240             0.060501             0.044236   \n",
       "75%            2.813339             0.073032             0.055351   \n",
       "max            3.310154             0.340087             0.230984   \n",
       "\n",
       "       spectral_spread-0  spectral_spread-1  ...   chroma_4-2   chroma_5-2  \\\n",
       "count        5160.000000        5051.000000  ...  3991.000000  3991.000000   \n",
       "mean            0.122287           0.082210  ...     0.004646     0.004069   \n",
       "std             0.043293           0.032623  ...     0.009907     0.008801   \n",
       "min             0.034090           0.033609  ...     0.000015     0.000009   \n",
       "25%             0.089927           0.057043  ...     0.000599     0.000510   \n",
       "50%             0.125508           0.075636  ...     0.001502     0.001349   \n",
       "75%             0.153103           0.100314  ...     0.004136     0.003603   \n",
       "max             0.301256           0.298466  ...     0.186853     0.159662   \n",
       "\n",
       "        chroma_6-2   chroma_7-2   chroma_8-2   chroma_9-2  chroma_10-2  \\\n",
       "count  3991.000000  3991.000000  3991.000000  3991.000000  3991.000000   \n",
       "mean      0.003861     0.005291     0.009304     0.013684     0.013854   \n",
       "std       0.009187     0.012463     0.025531     0.027434     0.023884   \n",
       "min       0.000010     0.000006     0.000007     0.000018     0.000030   \n",
       "25%       0.000525     0.000624     0.000766     0.001218     0.001491   \n",
       "50%       0.001286     0.001580     0.002217     0.003666     0.004678   \n",
       "75%       0.003324     0.004325     0.006652     0.012315     0.015177   \n",
       "max       0.123041     0.184157     0.546402     0.363533     0.222601   \n",
       "\n",
       "       chroma_11-2  chroma_12-2  chroma_std-2  \n",
       "count  3991.000000  3991.000000   3991.000000  \n",
       "mean      0.014809     0.012828      0.014545  \n",
       "std       0.029284     0.023235      0.012183  \n",
       "min       0.000027     0.000026      0.000088  \n",
       "25%       0.001632     0.001519      0.006624  \n",
       "50%       0.004854     0.004225      0.011110  \n",
       "75%       0.014347     0.012971      0.018469  \n",
       "max       0.412208     0.303294      0.148767  \n",
       "\n",
       "[8 rows x 102 columns]"
      ]
     },
     "execution_count": 15,
     "metadata": {},
     "output_type": "execute_result"
    }
   ],
   "source": [
    "df_raw_balanced.describe()"
   ]
  },
  {
   "cell_type": "code",
   "execution_count": 16,
   "metadata": {},
   "outputs": [
    {
     "name": "stdout",
     "output_type": "stream",
     "text": [
      "<class 'pandas.core.frame.DataFrame'>\n",
      "Int64Index: 5160 entries, 0 to 21062\n",
      "Columns: 103 entries, type to chroma_std-2\n",
      "dtypes: float64(102), object(1)\n",
      "memory usage: 4.3+ MB\n"
     ]
    }
   ],
   "source": [
    "df_raw_balanced.info()"
   ]
  },
  {
   "cell_type": "code",
   "execution_count": 17,
   "metadata": {},
   "outputs": [
    {
     "data": {
      "text/plain": [
       "zcr-0               0.008352\n",
       "zcr-1               0.011923\n",
       "energy-0            0.012264\n",
       "energy-1            0.019320\n",
       "energy_entropy-0    0.782803\n",
       "                      ...   \n",
       "chroma_9-2          0.027434\n",
       "chroma_10-2         0.023884\n",
       "chroma_11-2         0.029284\n",
       "chroma_12-2         0.023235\n",
       "chroma_std-2        0.012183\n",
       "Name: std, Length: 102, dtype: float64"
      ]
     },
     "execution_count": 17,
     "metadata": {},
     "output_type": "execute_result"
    }
   ],
   "source": [
    "df_raw_balanced.describe().loc['std']"
   ]
  },
  {
   "cell_type": "markdown",
   "metadata": {},
   "source": [
    "##### There is huge difference in variances of each variables and a variable with a high variance will have a higher weight for the calculation of axis than a variable with a low standard.It is necessary to normalize the attributes "
   ]
  },
  {
   "cell_type": "markdown",
   "metadata": {},
   "source": [
    "### STEP-4 Data preprocessing"
   ]
  },
  {
   "cell_type": "markdown",
   "metadata": {},
   "source": [
    "#### <u>A. Divide Data into Train and Test</u>"
   ]
  },
  {
   "cell_type": "code",
   "execution_count": 18,
   "metadata": {},
   "outputs": [],
   "source": [
    "feature_names=df_raw_balanced.columns[1:]\n",
    "class_label=df_raw_balanced.columns[0]"
   ]
  },
  {
   "cell_type": "code",
   "execution_count": 19,
   "metadata": {},
   "outputs": [],
   "source": [
    "df_raw_balanced.fillna(df_raw.mean(),inplace=True)"
   ]
  },
  {
   "cell_type": "code",
   "execution_count": 20,
   "metadata": {},
   "outputs": [
    {
     "data": {
      "text/plain": [
       "Index(['type', 'zcr-0', 'zcr-1', 'energy-0', 'energy-1', 'energy_entropy-0',\n",
       "       'energy_entropy-1', 'spectral_centroid-0', 'spectral_centroid-1',\n",
       "       'spectral_spread-0',\n",
       "       ...\n",
       "       'chroma_4-2', 'chroma_5-2', 'chroma_6-2', 'chroma_7-2', 'chroma_8-2',\n",
       "       'chroma_9-2', 'chroma_10-2', 'chroma_11-2', 'chroma_12-2',\n",
       "       'chroma_std-2'],\n",
       "      dtype='object', length=103)"
      ]
     },
     "execution_count": 20,
     "metadata": {},
     "output_type": "execute_result"
    }
   ],
   "source": [
    "df_raw_balanced.columns"
   ]
  },
  {
   "cell_type": "code",
   "execution_count": 21,
   "metadata": {},
   "outputs": [],
   "source": [
    "X_train, X_test, y_train, y_test = train_test_split(df_raw_balanced[feature_names], \n",
    "                                                    df_raw_balanced[class_label], test_size=0.20, \n",
    "                                                    random_state=101)"
   ]
  },
  {
   "cell_type": "markdown",
   "metadata": {},
   "source": [
    "### Standardize- "
   ]
  },
  {
   "cell_type": "code",
   "execution_count": 22,
   "metadata": {},
   "outputs": [],
   "source": [
    "# Create the Scaler object\n",
    "scaler = StandardScaler()\n",
    "# Fit data on the scaler object\n",
    "scaled_X_train = scaler.fit_transform(X_train)\n",
    "scaled_df_X_train = pd.DataFrame(scaled_X_train, columns=feature_names)\n",
    "#scaled_df_X_train"
   ]
  },
  {
   "cell_type": "code",
   "execution_count": 23,
   "metadata": {},
   "outputs": [],
   "source": [
    "scaled_X_test =scaler.transform(X_test)\n",
    "scaled_df_X_test= pd.DataFrame(data=scaled_X_test,columns=feature_names)"
   ]
  },
  {
   "cell_type": "markdown",
   "metadata": {},
   "source": [
    "### PCA"
   ]
  },
  {
   "cell_type": "code",
   "execution_count": 24,
   "metadata": {},
   "outputs": [],
   "source": [
    "pca=decomposition.PCA(n_components=30)\n",
    "pca_scaled_X_train=pca.fit_transform(scaled_X_train)\n",
    "pca_scaled_X_train_df=pd.DataFrame(data=pca_scaled_X_train)\n",
    "#Y3_df\n"
   ]
  },
  {
   "cell_type": "code",
   "execution_count": 25,
   "metadata": {},
   "outputs": [],
   "source": [
    "pca_scaled_X_test=pca.transform(scaled_X_test)\n",
    "pca_scaled_X_test_df=pd.DataFrame(data=pca_scaled_X_test)"
   ]
  },
  {
   "cell_type": "code",
   "execution_count": 26,
   "metadata": {},
   "outputs": [
    {
     "name": "stdout",
     "output_type": "stream",
     "text": [
      "Eigen Values [8.40869191 6.07185672 4.30503332 4.14685418 3.3837807  2.93781885\n",
      " 2.84718323 2.63433086 2.2550382  2.14291554 2.08390039 1.88453652\n",
      " 1.81372698 1.67142197 1.59286865 1.46179984 1.40525243 1.3737211\n",
      " 1.34529763 1.31890573 1.26036267 1.20379226 1.16866544 1.13350889\n",
      " 1.07905725 1.06106961 1.0431586  1.00677918 0.99376471 0.96314055]\n",
      "\n",
      "\n",
      "Eigen Vectors [[ 0.1953104   0.05227928  0.19504619 ...  0.01557217  0.01619435\n",
      "   0.00700151]\n",
      " [ 0.03564452 -0.1093364   0.10051653 ...  0.09022193  0.0174732\n",
      "   0.15959812]\n",
      " [ 0.06522845  0.06902199  0.04638177 ... -0.0862178  -0.05034199\n",
      "  -0.15002385]\n",
      " ...\n",
      " [ 0.18691318  0.03502745  0.04405981 ... -0.01199466 -0.15317537\n",
      "   0.03366513]\n",
      " [ 0.17877374 -0.06857014  0.10296901 ... -0.07782978  0.07665748\n",
      "  -0.0379233 ]\n",
      " [-0.07844998  0.07822587 -0.00044626 ... -0.17744378  0.1713076\n",
      "  -0.01214736]]\n",
      "\n",
      "\n",
      "Explained Variance Ratio [0.08323421 0.06010283 0.04261377 0.04104802 0.03349466 0.02908027\n",
      " 0.0281831  0.02607617 0.0223217  0.02121185 0.02062768 0.01865426\n",
      " 0.01795334 0.01654472 0.01576716 0.01446976 0.01391002 0.0135979\n",
      " 0.01331655 0.01305531 0.01247582 0.01191585 0.01156814 0.01122014\n",
      " 0.01068115 0.01050309 0.0103258  0.0099657  0.00983687 0.00953373]\n",
      "\n",
      "\n"
     ]
    }
   ],
   "source": [
    "print('Eigen Values',pca.explained_variance_)\n",
    "print('\\n')\n",
    "print('Eigen Vectors',pca.components_)\n",
    "print('\\n')\n",
    "print('Explained Variance Ratio',pca.explained_variance_ratio_)\n",
    "print('\\n')"
   ]
  },
  {
   "cell_type": "code",
   "execution_count": 27,
   "metadata": {},
   "outputs": [
    {
     "data": {
      "text/plain": [
       "65.32895638136748"
      ]
     },
     "execution_count": 27,
     "metadata": {},
     "output_type": "execute_result"
    }
   ],
   "source": [
    "pca_variance=pca.explained_variance_ratio_*100\n",
    "np.sum(pca_variance)"
   ]
  },
  {
   "cell_type": "code",
   "execution_count": 28,
   "metadata": {},
   "outputs": [
    {
     "data": {
      "text/plain": [
       "Text(0.5, 1.0, 'Explained Variance')"
      ]
     },
     "execution_count": 28,
     "metadata": {},
     "output_type": "execute_result"
    },
    {
     "data": {
      "image/png": "[encoded data removed]",
      "text/plain": [
       "<Figure size 1080x432 with 1 Axes>"
      ]
     },
     "metadata": {
      "needs_background": "light"
     },
     "output_type": "display_data"
    }
   ],
   "source": [
    "plt.figure(figsize=(15,6))\n",
    "\n",
    "objects = ('PCA1', 'PCA2', 'PCA3', 'PCA4', 'PCA5', 'PCA6','PCA7', 'PCA8',\n",
    "           'PCA9', 'PCA10', 'PCA11', 'PCA12','PCA13', 'PCA14', 'PCA15' ,\n",
    "          'PCA16', 'PCA17', 'PCA18', 'PCA19','PCA20', 'PCA21', 'PCA22',\n",
    "          'PCA23', 'PCA24', 'PCA25', 'PCA26','PCA27', 'PCA28', 'PCA29','PCA30')\n",
    "y_pos = np.arange(len(objects))\n",
    "performance = pca_variance\n",
    "\n",
    "plt.bar(y_pos, performance, align='center', alpha=0.5)\n",
    "plt.xticks(y_pos, objects)\n",
    "plt.ylabel('Variance')\n",
    "plt.title('Explained Variance')"
   ]
  },
  {
   "cell_type": "markdown",
   "metadata": {},
   "source": [
    "### STEP-5 Model Building"
   ]
  },
  {
   "cell_type": "code",
   "execution_count": 41,
   "metadata": {},
   "outputs": [],
   "source": [
    "def K_fold_cross_validation(model,X,Y,kfold=7):\n",
    "    '''\n",
    "    @ Author - Fakhare Alam \n",
    "    '''\n",
    "    scores_list=(cross_val_score(model, X, Y, cv=kfold))\n",
    "    mean_score=np.mean(scores_list)\n",
    "    std_score=np.std(scores_list)\n",
    "    return scores_list,mean_score,std_score"
   ]
  },
  {
   "cell_type": "markdown",
   "metadata": {},
   "source": [
    "#### <u>A. Logistic Regression</u>"
   ]
  },
  {
   "cell_type": "code",
   "execution_count": 44,
   "metadata": {},
   "outputs": [
    {
     "name": "stderr",
     "output_type": "stream",
     "text": [
      "C:\\ProgramData\\Anaconda3\\lib\\site-packages\\sklearn\\linear_model\\logistic.py:432: FutureWarning: Default solver will be changed to 'lbfgs' in 0.22. Specify a solver to silence this warning.\n",
      "  FutureWarning)\n",
      "C:\\ProgramData\\Anaconda3\\lib\\site-packages\\sklearn\\linear_model\\logistic.py:432: FutureWarning: Default solver will be changed to 'lbfgs' in 0.22. Specify a solver to silence this warning.\n",
      "  FutureWarning)\n",
      "C:\\ProgramData\\Anaconda3\\lib\\site-packages\\sklearn\\linear_model\\logistic.py:432: FutureWarning: Default solver will be changed to 'lbfgs' in 0.22. Specify a solver to silence this warning.\n",
      "  FutureWarning)\n",
      "C:\\ProgramData\\Anaconda3\\lib\\site-packages\\sklearn\\linear_model\\logistic.py:432: FutureWarning: Default solver will be changed to 'lbfgs' in 0.22. Specify a solver to silence this warning.\n",
      "  FutureWarning)\n",
      "C:\\ProgramData\\Anaconda3\\lib\\site-packages\\sklearn\\linear_model\\logistic.py:432: FutureWarning: Default solver will be changed to 'lbfgs' in 0.22. Specify a solver to silence this warning.\n",
      "  FutureWarning)\n"
     ]
    },
    {
     "name": "stdout",
     "output_type": "stream",
     "text": [
      "\u001b[1mLogistic Regression\n",
      "\u001b[0m\n",
      "Accuracy 0.8963178294573644\n",
      "\n",
      "ConfusionMatrix\n",
      "[[485  37]\n",
      " [ 70 440]]\n",
      "\n",
      "(tn, fp, fn, tp)          (485, 37, 70, 440)\n",
      "\n",
      "Classification_Report\n",
      "              precision    recall  f1-score   support\n",
      "\n",
      "    bonafide       0.87      0.93      0.90       522\n",
      "       spoof       0.92      0.86      0.89       510\n",
      "\n",
      "    accuracy                           0.90      1032\n",
      "   macro avg       0.90      0.90      0.90      1032\n",
      "weighted avg       0.90      0.90      0.90      1032\n",
      "\n",
      " 7-Fold Score [0.90169492 0.85762712 0.88135593 0.87118644 0.87627119 0.87436333\n",
      " 0.87606112]\n",
      "Mean_Score 0.876937148776808\n",
      "Std_score 0.012225594006343354\n"
     ]
    },
    {
     "name": "stderr",
     "output_type": "stream",
     "text": [
      "C:\\ProgramData\\Anaconda3\\lib\\site-packages\\sklearn\\linear_model\\logistic.py:432: FutureWarning: Default solver will be changed to 'lbfgs' in 0.22. Specify a solver to silence this warning.\n",
      "  FutureWarning)\n",
      "C:\\ProgramData\\Anaconda3\\lib\\site-packages\\sklearn\\linear_model\\logistic.py:432: FutureWarning: Default solver will be changed to 'lbfgs' in 0.22. Specify a solver to silence this warning.\n",
      "  FutureWarning)\n",
      "C:\\ProgramData\\Anaconda3\\lib\\site-packages\\sklearn\\linear_model\\logistic.py:432: FutureWarning: Default solver will be changed to 'lbfgs' in 0.22. Specify a solver to silence this warning.\n",
      "  FutureWarning)\n"
     ]
    }
   ],
   "source": [
    "logreg = LogisticRegression(n_jobs=1, C=1e5)\n",
    "logreg.fit(pca_scaled_X_train, y_train)\n",
    "\n",
    "y_pred = logreg.predict(pca_scaled_X_test)\n",
    "\n",
    "cnf_matrix=confusion_matrix(y_test,y_pred)\n",
    "cls_report=classification_report(y_test,y_pred)\n",
    "accr=accuracy_score(y_test,y_pred)\n",
    "tn, fp, fn, tp = cnf_matrix.ravel()\n",
    "scores_list,mean_score,std_score=K_fold_cross_validation(logreg,pca_scaled_X_train, y_train,kfold=7)\n",
    "print('\\033[1m'+'Logistic Regression')\n",
    "print('\\033[0m')\n",
    "print(\"Accuracy {}\\n\\nConfusionMatrix\\n{}\\n\\n(tn, fp, fn, tp)\\\n",
    "          ({}, {}, {}, {})\\n\\nClassification_Report\\n{}\\n 7-Fold Score {}\\nMean_Score {}\\nStd_score {}\"\n",
    "          .format(accr,cnf_matrix,tn, fp, fn, tp,cls_report,scores_list, mean_score, std_score))     \n"
   ]
  },
  {
   "cell_type": "markdown",
   "metadata": {},
   "source": [
    "#### <u>B. AdaBoost</u>"
   ]
  },
  {
   "cell_type": "code",
   "execution_count": 50,
   "metadata": {},
   "outputs": [
    {
     "name": "stdout",
     "output_type": "stream",
     "text": [
      "\u001b[1mAdaptive Boosting\n",
      "\u001b[0m\n",
      "Accuracy 0.874031007751938\n",
      "\n",
      "ConfusionMatrix\n",
      "[[477  45]\n",
      " [ 85 425]]\n",
      "\n",
      "(tn, fp, fn, tp)          (477, 45, 85, 425)\n",
      "\n",
      "Classification_Report\n",
      "              precision    recall  f1-score   support\n",
      "\n",
      "    bonafide       0.85      0.91      0.88       522\n",
      "       spoof       0.90      0.83      0.87       510\n",
      "\n",
      "    accuracy                           0.87      1032\n",
      "   macro avg       0.88      0.87      0.87      1032\n",
      "weighted avg       0.88      0.87      0.87      1032\n",
      "\n",
      " 7-Fold Score [0.86271186 0.87118644 0.86101695 0.84237288 0.87288136 0.86587436\n",
      " 0.86587436]\n",
      "Mean_Score 0.8631311740258246\n",
      "Std_score 0.00933928740839683\n"
     ]
    }
   ],
   "source": [
    "adaboost = AdaBoostClassifier(random_state=1)\n",
    "adaboost.fit(pca_scaled_X_train, y_train)\n",
    "y_pred = adaboost.predict(pca_scaled_X_test)\n",
    "\n",
    "cnf_matrix=confusion_matrix(y_test,y_pred)\n",
    "cls_report=classification_report(y_test,y_pred)\n",
    "accr=accuracy_score(y_test,y_pred)\n",
    "tn, fp, fn, tp = cnf_matrix.ravel()\n",
    "scores_list,mean_score,std_score=K_fold_cross_validation(adaboost,pca_scaled_X_train, y_train,kfold=7)\n",
    "print('\\033[1m'+'Adaptive Boosting')\n",
    "print('\\033[0m')\n",
    "print(\"Accuracy {}\\n\\nConfusionMatrix\\n{}\\n\\n(tn, fp, fn, tp)\\\n",
    "          ({}, {}, {}, {})\\n\\nClassification_Report\\n{}\\n 7-Fold Score {}\\nMean_Score {}\\nStd_score {}\"\n",
    "          .format(accr,cnf_matrix,tn, fp, fn, tp,cls_report,scores_list, mean_score, std_score))  "
   ]
  },
  {
   "cell_type": "markdown",
   "metadata": {},
   "source": [
    "#### <u> SVM</u>"
   ]
  },
  {
   "cell_type": "code",
   "execution_count": 51,
   "metadata": {},
   "outputs": [
    {
     "name": "stderr",
     "output_type": "stream",
     "text": [
      "C:\\ProgramData\\Anaconda3\\lib\\site-packages\\sklearn\\svm\\base.py:193: FutureWarning: The default value of gamma will change from 'auto' to 'scale' in version 0.22 to account better for unscaled features. Set gamma explicitly to 'auto' or 'scale' to avoid this warning.\n",
      "  \"avoid this warning.\", FutureWarning)\n",
      "C:\\ProgramData\\Anaconda3\\lib\\site-packages\\sklearn\\svm\\base.py:193: FutureWarning: The default value of gamma will change from 'auto' to 'scale' in version 0.22 to account better for unscaled features. Set gamma explicitly to 'auto' or 'scale' to avoid this warning.\n",
      "  \"avoid this warning.\", FutureWarning)\n",
      "C:\\ProgramData\\Anaconda3\\lib\\site-packages\\sklearn\\svm\\base.py:193: FutureWarning: The default value of gamma will change from 'auto' to 'scale' in version 0.22 to account better for unscaled features. Set gamma explicitly to 'auto' or 'scale' to avoid this warning.\n",
      "  \"avoid this warning.\", FutureWarning)\n",
      "C:\\ProgramData\\Anaconda3\\lib\\site-packages\\sklearn\\svm\\base.py:193: FutureWarning: The default value of gamma will change from 'auto' to 'scale' in version 0.22 to account better for unscaled features. Set gamma explicitly to 'auto' or 'scale' to avoid this warning.\n",
      "  \"avoid this warning.\", FutureWarning)\n",
      "C:\\ProgramData\\Anaconda3\\lib\\site-packages\\sklearn\\svm\\base.py:193: FutureWarning: The default value of gamma will change from 'auto' to 'scale' in version 0.22 to account better for unscaled features. Set gamma explicitly to 'auto' or 'scale' to avoid this warning.\n",
      "  \"avoid this warning.\", FutureWarning)\n",
      "C:\\ProgramData\\Anaconda3\\lib\\site-packages\\sklearn\\svm\\base.py:193: FutureWarning: The default value of gamma will change from 'auto' to 'scale' in version 0.22 to account better for unscaled features. Set gamma explicitly to 'auto' or 'scale' to avoid this warning.\n",
      "  \"avoid this warning.\", FutureWarning)\n",
      "C:\\ProgramData\\Anaconda3\\lib\\site-packages\\sklearn\\svm\\base.py:193: FutureWarning: The default value of gamma will change from 'auto' to 'scale' in version 0.22 to account better for unscaled features. Set gamma explicitly to 'auto' or 'scale' to avoid this warning.\n",
      "  \"avoid this warning.\", FutureWarning)\n",
      "C:\\ProgramData\\Anaconda3\\lib\\site-packages\\sklearn\\svm\\base.py:193: FutureWarning: The default value of gamma will change from 'auto' to 'scale' in version 0.22 to account better for unscaled features. Set gamma explicitly to 'auto' or 'scale' to avoid this warning.\n",
      "  \"avoid this warning.\", FutureWarning)\n"
     ]
    },
    {
     "name": "stdout",
     "output_type": "stream",
     "text": [
      "\u001b[1mSupportive Vector Machine\n",
      "\u001b[0m\n",
      "Accuracy 0.9457364341085271\n",
      "\n",
      "ConfusionMatrix\n",
      "[[503  19]\n",
      " [ 37 473]]\n",
      "\n",
      "(tn, fp, fn, tp)          (503, 19, 37, 473)\n",
      "\n",
      "Classification_Report\n",
      "              precision    recall  f1-score   support\n",
      "\n",
      "    bonafide       0.93      0.96      0.95       522\n",
      "       spoof       0.96      0.93      0.94       510\n",
      "\n",
      "    accuracy                           0.95      1032\n",
      "   macro avg       0.95      0.95      0.95      1032\n",
      "weighted avg       0.95      0.95      0.95      1032\n",
      "\n",
      " 7-Fold Score [0.93728814 0.91864407 0.92881356 0.92542373 0.94915254 0.92359932\n",
      " 0.92020374]\n",
      "Mean_Score 0.9290178699893528\n",
      "Std_score 0.010010190081049008\n"
     ]
    }
   ],
   "source": [
    "svc = svm.SVC(C=1.0, kernel='rbf')\n",
    "svc.fit(pca_scaled_X_train, y_train)\n",
    "y_pred = svc.predict(pca_scaled_X_test)\n",
    "cnf_matrix=confusion_matrix(y_test,y_pred)\n",
    "cls_report=classification_report(y_test,y_pred)\n",
    "accr=accuracy_score(y_test,y_pred)\n",
    "tn, fp, fn, tp = cnf_matrix.ravel()\n",
    "scores_list,mean_score,std_score=K_fold_cross_validation(svc,pca_scaled_X_train, y_train,kfold=7)\n",
    "print('\\033[1m'+'Supportive Vector Machine')\n",
    "print('\\033[0m')\n",
    "print(\"Accuracy {}\\n\\nConfusionMatrix\\n{}\\n\\n(tn, fp, fn, tp)\\\n",
    "          ({}, {}, {}, {})\\n\\nClassification_Report\\n{}\\n 7-Fold Score {}\\nMean_Score {}\\nStd_score {}\"\n",
    "          .format(accr,cnf_matrix,tn, fp, fn, tp,cls_report,scores_list, mean_score, std_score)) "
   ]
  },
  {
   "cell_type": "markdown",
   "metadata": {},
   "source": [
    "#### <u>KNN</u>"
   ]
  },
  {
   "cell_type": "code",
   "execution_count": 52,
   "metadata": {},
   "outputs": [
    {
     "name": "stdout",
     "output_type": "stream",
     "text": [
      "\u001b[1mKNN\n",
      "\u001b[0m\n",
      "Accuracy 0.9195736434108527\n",
      "\n",
      "ConfusionMatrix\n",
      "[[504  18]\n",
      " [ 65 445]]\n",
      "\n",
      "(tn, fp, fn, tp)          (504, 18, 65, 445)\n",
      "\n",
      "Classification_Report\n",
      "              precision    recall  f1-score   support\n",
      "\n",
      "    bonafide       0.89      0.97      0.92       522\n",
      "       spoof       0.96      0.87      0.91       510\n",
      "\n",
      "    accuracy                           0.92      1032\n",
      "   macro avg       0.92      0.92      0.92      1032\n",
      "weighted avg       0.92      0.92      0.92      1032\n",
      "\n",
      " 7-Fold Score [0.90677966 0.89152542 0.90847458 0.89661017 0.94237288 0.90662139\n",
      " 0.87775891]\n",
      "Mean_Score 0.904306145352446\n",
      "Std_score 0.018536686663741208\n"
     ]
    }
   ],
   "source": [
    "knn = KNeighborsClassifier(n_neighbors = 7)\n",
    "knn.fit(pca_scaled_X_train, y_train)\n",
    "y_pred = knn.predict(pca_scaled_X_test)\n",
    "cnf_matrix=confusion_matrix(y_test,y_pred)\n",
    "cls_report=classification_report(y_test,y_pred)\n",
    "accr=accuracy_score(y_test,y_pred)\n",
    "tn, fp, fn, tp = cnf_matrix.ravel()\n",
    "scores_list,mean_score,std_score=K_fold_cross_validation(knn,pca_scaled_X_train, y_train,kfold=7)\n",
    "print('\\033[1m'+'KNN')\n",
    "print('\\033[0m')\n",
    "print(\"Accuracy {}\\n\\nConfusionMatrix\\n{}\\n\\n(tn, fp, fn, tp)\\\n",
    "          ({}, {}, {}, {})\\n\\nClassification_Report\\n{}\\n 7-Fold Score {}\\nMean_Score {}\\nStd_score {}\"\n",
    "          .format(accr,cnf_matrix,tn, fp, fn, tp,cls_report,scores_list, mean_score, std_score)) "
   ]
  },
  {
   "cell_type": "markdown",
   "metadata": {},
   "source": [
    "#### <u> ANN</u>"
   ]
  },
  {
   "cell_type": "code",
   "execution_count": 53,
   "metadata": {},
   "outputs": [
    {
     "name": "stdout",
     "output_type": "stream",
     "text": [
      "\u001b[1mArticificial Neural Netwrok\n",
      "\u001b[0m\n",
      "Accuracy 0.9418604651162791\n",
      "\n",
      "ConfusionMatrix\n",
      "[[499  23]\n",
      " [ 37 473]]\n",
      "\n",
      "(tn, fp, fn, tp)          (499, 23, 37, 473)\n",
      "\n",
      "Classification_Report\n",
      "              precision    recall  f1-score   support\n",
      "\n",
      "    bonafide       0.93      0.96      0.94       522\n",
      "       spoof       0.95      0.93      0.94       510\n",
      "\n",
      "    accuracy                           0.94      1032\n",
      "   macro avg       0.94      0.94      0.94      1032\n",
      "weighted avg       0.94      0.94      0.94      1032\n",
      "\n",
      " 7-Fold Score [0.92372881 0.91864407 0.91694915 0.88644068 0.93050847 0.91850594\n",
      " 0.91850594]\n",
      "Mean_Score 0.9161832958558234\n",
      "Std_score 0.012896290770754264\n"
     ]
    }
   ],
   "source": [
    "mlp = MLPClassifier(hidden_layer_sizes=(100, 70, 30,20,10), max_iter=1000)\n",
    "\n",
    "mlp.fit(pca_scaled_X_train, y_train)\n",
    "y_pred = mlp.predict(pca_scaled_X_test)\n",
    "cnf_matrix=confusion_matrix(y_test,y_pred)\n",
    "cls_report=classification_report(y_test,y_pred)\n",
    "accr=accuracy_score(y_test,y_pred)\n",
    "tn, fp, fn, tp = cnf_matrix.ravel()\n",
    "scores_list,mean_score,std_score=K_fold_cross_validation(mlp,pca_scaled_X_train, y_train,kfold=7)\n",
    "print('\\033[1m'+'Articificial Neural Netwrok')\n",
    "print('\\033[0m')\n",
    "print(\"Accuracy {}\\n\\nConfusionMatrix\\n{}\\n\\n(tn, fp, fn, tp)\\\n",
    "          ({}, {}, {}, {})\\n\\nClassification_Report\\n{}\\n 7-Fold Score {}\\nMean_Score {}\\nStd_score {}\"\n",
    "          .format(accr,cnf_matrix,tn, fp, fn, tp,cls_report,scores_list, mean_score, std_score))  \n"
   ]
  },
  {
   "cell_type": "markdown",
   "metadata": {},
   "source": [
    "#### <u> Ensemble Model- Voting Classifier</u>"
   ]
  },
  {
   "cell_type": "code",
   "execution_count": 54,
   "metadata": {},
   "outputs": [
    {
     "name": "stderr",
     "output_type": "stream",
     "text": [
      "C:\\ProgramData\\Anaconda3\\lib\\site-packages\\sklearn\\linear_model\\logistic.py:432: FutureWarning: Default solver will be changed to 'lbfgs' in 0.22. Specify a solver to silence this warning.\n",
      "  FutureWarning)\n",
      "C:\\ProgramData\\Anaconda3\\lib\\site-packages\\sklearn\\svm\\base.py:193: FutureWarning: The default value of gamma will change from 'auto' to 'scale' in version 0.22 to account better for unscaled features. Set gamma explicitly to 'auto' or 'scale' to avoid this warning.\n",
      "  \"avoid this warning.\", FutureWarning)\n",
      "C:\\ProgramData\\Anaconda3\\lib\\site-packages\\sklearn\\linear_model\\logistic.py:432: FutureWarning: Default solver will be changed to 'lbfgs' in 0.22. Specify a solver to silence this warning.\n",
      "  FutureWarning)\n",
      "C:\\ProgramData\\Anaconda3\\lib\\site-packages\\sklearn\\svm\\base.py:193: FutureWarning: The default value of gamma will change from 'auto' to 'scale' in version 0.22 to account better for unscaled features. Set gamma explicitly to 'auto' or 'scale' to avoid this warning.\n",
      "  \"avoid this warning.\", FutureWarning)\n",
      "C:\\ProgramData\\Anaconda3\\lib\\site-packages\\sklearn\\linear_model\\logistic.py:432: FutureWarning: Default solver will be changed to 'lbfgs' in 0.22. Specify a solver to silence this warning.\n",
      "  FutureWarning)\n",
      "C:\\ProgramData\\Anaconda3\\lib\\site-packages\\sklearn\\svm\\base.py:193: FutureWarning: The default value of gamma will change from 'auto' to 'scale' in version 0.22 to account better for unscaled features. Set gamma explicitly to 'auto' or 'scale' to avoid this warning.\n",
      "  \"avoid this warning.\", FutureWarning)\n",
      "C:\\ProgramData\\Anaconda3\\lib\\site-packages\\sklearn\\linear_model\\logistic.py:432: FutureWarning: Default solver will be changed to 'lbfgs' in 0.22. Specify a solver to silence this warning.\n",
      "  FutureWarning)\n",
      "C:\\ProgramData\\Anaconda3\\lib\\site-packages\\sklearn\\svm\\base.py:193: FutureWarning: The default value of gamma will change from 'auto' to 'scale' in version 0.22 to account better for unscaled features. Set gamma explicitly to 'auto' or 'scale' to avoid this warning.\n",
      "  \"avoid this warning.\", FutureWarning)\n",
      "C:\\ProgramData\\Anaconda3\\lib\\site-packages\\sklearn\\linear_model\\logistic.py:432: FutureWarning: Default solver will be changed to 'lbfgs' in 0.22. Specify a solver to silence this warning.\n",
      "  FutureWarning)\n",
      "C:\\ProgramData\\Anaconda3\\lib\\site-packages\\sklearn\\svm\\base.py:193: FutureWarning: The default value of gamma will change from 'auto' to 'scale' in version 0.22 to account better for unscaled features. Set gamma explicitly to 'auto' or 'scale' to avoid this warning.\n",
      "  \"avoid this warning.\", FutureWarning)\n",
      "C:\\ProgramData\\Anaconda3\\lib\\site-packages\\sklearn\\linear_model\\logistic.py:432: FutureWarning: Default solver will be changed to 'lbfgs' in 0.22. Specify a solver to silence this warning.\n",
      "  FutureWarning)\n",
      "C:\\ProgramData\\Anaconda3\\lib\\site-packages\\sklearn\\svm\\base.py:193: FutureWarning: The default value of gamma will change from 'auto' to 'scale' in version 0.22 to account better for unscaled features. Set gamma explicitly to 'auto' or 'scale' to avoid this warning.\n",
      "  \"avoid this warning.\", FutureWarning)\n",
      "C:\\ProgramData\\Anaconda3\\lib\\site-packages\\sklearn\\linear_model\\logistic.py:432: FutureWarning: Default solver will be changed to 'lbfgs' in 0.22. Specify a solver to silence this warning.\n",
      "  FutureWarning)\n",
      "C:\\ProgramData\\Anaconda3\\lib\\site-packages\\sklearn\\svm\\base.py:193: FutureWarning: The default value of gamma will change from 'auto' to 'scale' in version 0.22 to account better for unscaled features. Set gamma explicitly to 'auto' or 'scale' to avoid this warning.\n",
      "  \"avoid this warning.\", FutureWarning)\n",
      "C:\\ProgramData\\Anaconda3\\lib\\site-packages\\sklearn\\linear_model\\logistic.py:432: FutureWarning: Default solver will be changed to 'lbfgs' in 0.22. Specify a solver to silence this warning.\n",
      "  FutureWarning)\n",
      "C:\\ProgramData\\Anaconda3\\lib\\site-packages\\sklearn\\svm\\base.py:193: FutureWarning: The default value of gamma will change from 'auto' to 'scale' in version 0.22 to account better for unscaled features. Set gamma explicitly to 'auto' or 'scale' to avoid this warning.\n",
      "  \"avoid this warning.\", FutureWarning)\n"
     ]
    },
    {
     "name": "stdout",
     "output_type": "stream",
     "text": [
      "\u001b[1mEnsemble Model\n",
      "\u001b[0m\n",
      "Accuracy 0.937984496124031\n",
      "\n",
      "ConfusionMatrix\n",
      "[[505  17]\n",
      " [ 47 463]]\n",
      "\n",
      "(tn, fp, fn, tp)          (505, 17, 47, 463)\n",
      "\n",
      "Classification_Report\n",
      "              precision    recall  f1-score   support\n",
      "\n",
      "    bonafide       0.91      0.97      0.94       522\n",
      "       spoof       0.96      0.91      0.94       510\n",
      "\n",
      "    accuracy                           0.94      1032\n",
      "   macro avg       0.94      0.94      0.94      1032\n",
      "weighted avg       0.94      0.94      0.94      1032\n",
      "\n",
      " 7-Fold Score [0.92881356 0.91864407 0.92033898 0.91016949 0.94576271 0.92359932\n",
      " 0.91001698]\n",
      "Mean_Score 0.9224778731958381\n",
      "Std_score 0.011399407005382188\n"
     ]
    }
   ],
   "source": [
    "eclf= VotingClassifier(estimators=[\n",
    "         ('logreg', logreg),('adaboost', adaboost),\n",
    "          ('svc', svc),('mlp', mlp),('knn', knn)],\n",
    "        voting='hard')\n",
    "\n",
    "eclf = eclf.fit(pca_scaled_X_train, y_train)\n",
    "\n",
    "y_pred=eclf.predict(pca_scaled_X_test)\n",
    "cnf_matrix=confusion_matrix(y_test,y_pred)\n",
    "cls_report=classification_report(y_test,y_pred)\n",
    "accr=accuracy_score(y_test,y_pred)\n",
    "tn, fp, fn, tp = cnf_matrix.ravel()\n",
    "scores_list,mean_score,std_score=K_fold_cross_validation(eclf,pca_scaled_X_train, y_train,kfold=7)\n",
    "print('\\033[1m'+'Ensemble Model')\n",
    "print('\\033[0m')\n",
    "print(\"Accuracy {}\\n\\nConfusionMatrix\\n{}\\n\\n(tn, fp, fn, tp)\\\n",
    "          ({}, {}, {}, {})\\n\\nClassification_Report\\n{}\\n 7-Fold Score {}\\nMean_Score {}\\nStd_score {}\"\n",
    "          .format(accr,cnf_matrix,tn, fp, fn, tp,cls_report,scores_list, mean_score, std_score)) "
   ]
  }
 ],
 "metadata": {
  "kernelspec": {
   "display_name": "Python 3",
   "language": "python",
   "name": "python3"
  },
  "language_info": {
   "codemirror_mode": {
    "name": "ipython",
    "version": 3
   },
   "file_extension": ".py",
   "mimetype": "text/x-python",
   "name": "python",
   "nbconvert_exporter": "python",
   "pygments_lexer": "ipython3",
   "version": "3.7.4"
  }
 },
 "nbformat": 4,
 "nbformat_minor": 2
}
